{
  "nbformat": 4,
  "nbformat_minor": 0,
  "metadata": {
    "colab": {
      "provenance": [],
      "authorship_tag": "ABX9TyO16guYVAUXYeWTOpox9Sae",
      "include_colab_link": true
    },
    "kernelspec": {
      "name": "python3",
      "display_name": "Python 3"
    },
    "language_info": {
      "name": "python"
    }
  },
  "cells": [
    {
      "cell_type": "markdown",
      "metadata": {
        "id": "view-in-github",
        "colab_type": "text"
      },
      "source": [
        "<a href=\"https://colab.research.google.com/github/Diego-Pimenta/Imersao-IA-Alura/blob/main/Imersao_IA_Alura.ipynb\" target=\"_parent\"><img src=\"https://colab.research.google.com/assets/colab-badge.svg\" alt=\"Open In Colab\"/></a>"
      ]
    },
    {
      "cell_type": "markdown",
      "source": [
        "Instala a biblioteca do Google Generativa IA no ambiente no Python, que nos fornecerá o modelo do Gemini."
      ],
      "metadata": {
        "id": "5jfU-KoIySg2"
      }
    },
    {
      "cell_type": "code",
      "execution_count": 23,
      "metadata": {
        "id": "U_AdxeV-2HlP"
      },
      "outputs": [],
      "source": [
        "!pip install -q -U google-generativeai"
      ]
    },
    {
      "cell_type": "markdown",
      "source": [
        "Código fonte do projeto solicitado pelo evento:"
      ],
      "metadata": {
        "id": "S0I1gAPby1Y-"
      }
    },
    {
      "cell_type": "code",
      "source": [
        "import pathlib\n",
        "import textwrap\n",
        "\n",
        "import google.generativeai as genai\n",
        "\n",
        "from IPython.display import display\n",
        "from IPython.display import Markdown\n",
        "\n",
        "from google.colab import userdata\n",
        "\n",
        "\n",
        "def to_markdown(response):\n",
        "  text = response.text.replace('•', '  *')\n",
        "  return Markdown(textwrap.indent(text, '> ', predicate=lambda _: True))\n",
        "\n",
        "\n",
        "GOOGLE_API_KEY=userdata.get('GOOGLE_API_KEY')\n",
        "genai.configure(api_key=GOOGLE_API_KEY)\n",
        "\n",
        "model = genai.GenerativeModel('gemini-pro')\n",
        "\n",
        "\n",
        "def get_patient_info():\n",
        "  nome = input(\"Nome do paciente: \")\n",
        "  idade = int(input(\"Idade do paciente: \"))\n",
        "  sexo = input(\"Sexo do paciente (M/F): \")\n",
        "  peso = float(input(\"Peso do paciente (kg): \"))\n",
        "  condicoes = input(\"Condições do paciente (ex: fumante, obeso, diabético): \")\n",
        "  return nome, idade, sexo, peso, condicoes\n",
        "\n",
        "\n",
        "def get_medication_info():\n",
        "  nome_medicamento = input(\"Nome do medicamento: \")\n",
        "  dosagem = input(\"Dosagem (ex: 500mg): \")\n",
        "  forma_ingestao = input(\"Forma de ingestão (ex: comprimido, cápsula, líquido): \")\n",
        "  frequencia = input(\"Frequência (ex: 1x ao dia): \")\n",
        "  return nome_medicamento, dosagem, forma_ingestao, frequencia\n",
        "\n",
        "\n",
        "def get_medication_details(nome_medicamento, condicoes):\n",
        "  prompt = f\"\"\"\n",
        "  Forneça informações sobre o medicamento {nome_medicamento}, incluindo:\n",
        "  * Possíveis efeitos colaterais\n",
        "  * Interações com outros medicamentos\n",
        "  * Considerações especiais para pacientes com as seguintes condições: {condicoes}\n",
        "  * Passo a passo para o consumo do remédio (horários e ordem)\n",
        "  \"\"\"\n",
        "  response = model.generate_content(prompt)\n",
        "  return response\n",
        "\n",
        "\n",
        "def main():\n",
        "  nome, idade, sexo, peso, condicoes = get_patient_info()\n",
        "  medicamentos = []\n",
        "\n",
        "  while True:\n",
        "    nome_medicamento, dosagem, forma_ingestao, frequencia = get_medication_info()\n",
        "    detalhes = get_medication_details(nome_medicamento, condicoes)\n",
        "    medicamentos.append({\n",
        "        \"nome\": nome_medicamento,\n",
        "        \"dosagem\": dosagem,\n",
        "        \"forma_ingestao\": forma_ingestao,\n",
        "        \"frequencia\": frequencia,\n",
        "        \"detalhes\": detalhes\n",
        "    })\n",
        "\n",
        "    continuar = input(\"Adicionar outro medicamento? (S/N): \")\n",
        "    if continuar.upper() != 'S':\n",
        "      break\n",
        "\n",
        "  display(Markdown(f\"## Informações do Paciente\"))\n",
        "  display(Markdown(f\"* Nome: {nome}\"))\n",
        "  display(Markdown(f\"* Idade: {idade}\"))\n",
        "  display(Markdown(f\"* Sexo: {sexo}\"))\n",
        "  display(Markdown(f\"* Peso: {peso} kg\"))\n",
        "  display(Markdown(f\"* Condições: {condicoes}\"))\n",
        "\n",
        "  display(Markdown(f\"## Medicamentos\"))\n",
        "  for medicamento in medicamentos:\n",
        "    display(Markdown(f\"### {medicamento['nome']}\"))\n",
        "    display(Markdown(f\"* Dosagem: {medicamento['dosagem']}\"))\n",
        "    display(Markdown(f\"* Forma de ingestão: {medicamento['forma_ingestao']}\"))\n",
        "    display(Markdown(f\"* Frequência: {medicamento['frequencia']}\"))\n",
        "    display(to_markdown(medicamento['detalhes']))\n",
        "\n",
        "if __name__ == \"__main__\":\n",
        "  main()"
      ],
      "metadata": {
        "colab": {
          "base_uri": "https://localhost:8080/",
          "height": 1000
        },
        "id": "Eu5I3QMgvpRQ",
        "outputId": "cc55ff6c-01d5-4cf1-c5a7-b66050b8c136"
      },
      "execution_count": 35,
      "outputs": [
        {
          "name": "stdout",
          "output_type": "stream",
          "text": [
            "Nome do paciente: A. M. G.\n",
            "Idade do paciente: 77\n",
            "Sexo do paciente (M/F): F\n",
            "Peso do paciente (kg): 83.5\n",
            "Condições do paciente (ex: fumante, obeso, diabético): diabetes tipo 2, obesa\n",
            "Nome do medicamento: metformina\n",
            "Dosagem (ex: 500mg): 850mg\n",
            "Forma de ingestão (ex: comprimido, cápsula, líquido): comprimido via oral\n",
            "Frequência (ex: 1x ao dia): 2x ao dia\n",
            "Adicionar outro medicamento? (S/N): S\n",
            "Nome do medicamento: insulina NPH\n",
            "Dosagem (ex: 500mg): 15UI em jejum pela manhã e 12UI à noite após a janta\n",
            "Forma de ingestão (ex: comprimido, cápsula, líquido): injeção\n",
            "Frequência (ex: 1x ao dia): 2x ao dia\n",
            "Adicionar outro medicamento? (S/N): S\n",
            "Nome do medicamento: profenid\n",
            "Dosagem (ex: 500mg): 100mg\n",
            "Forma de ingestão (ex: comprimido, cápsula, líquido): comprimido via oral\n",
            "Frequência (ex: 1x ao dia): 1x ao dia\n",
            "Adicionar outro medicamento? (S/N): S\n",
            "Nome do medicamento: gliclazida\n",
            "Dosagem (ex: 500mg): 80mg\n",
            "Forma de ingestão (ex: comprimido, cápsula, líquido): comprimido via oral\n",
            "Frequência (ex: 1x ao dia): 2x ao dia\n",
            "Adicionar outro medicamento? (S/N): S\n",
            "Nome do medicamento: prednisona\n",
            "Dosagem (ex: 500mg): 5mg\n",
            "Forma de ingestão (ex: comprimido, cápsula, líquido): comprimido via oral\n",
            "Frequência (ex: 1x ao dia): 1x ao dia\n",
            "Adicionar outro medicamento? (S/N): N\n"
          ]
        },
        {
          "output_type": "display_data",
          "data": {
            "text/plain": [
              "<IPython.core.display.Markdown object>"
            ],
            "text/markdown": "## Informações do Paciente"
          },
          "metadata": {}
        },
        {
          "output_type": "display_data",
          "data": {
            "text/plain": [
              "<IPython.core.display.Markdown object>"
            ],
            "text/markdown": "* Nome: A. M. G."
          },
          "metadata": {}
        },
        {
          "output_type": "display_data",
          "data": {
            "text/plain": [
              "<IPython.core.display.Markdown object>"
            ],
            "text/markdown": "* Idade: 77"
          },
          "metadata": {}
        },
        {
          "output_type": "display_data",
          "data": {
            "text/plain": [
              "<IPython.core.display.Markdown object>"
            ],
            "text/markdown": "* Sexo: F"
          },
          "metadata": {}
        },
        {
          "output_type": "display_data",
          "data": {
            "text/plain": [
              "<IPython.core.display.Markdown object>"
            ],
            "text/markdown": "* Peso: 83.5 kg"
          },
          "metadata": {}
        },
        {
          "output_type": "display_data",
          "data": {
            "text/plain": [
              "<IPython.core.display.Markdown object>"
            ],
            "text/markdown": "* Condições: diabetes tipo 2, obesa"
          },
          "metadata": {}
        },
        {
          "output_type": "display_data",
          "data": {
            "text/plain": [
              "<IPython.core.display.Markdown object>"
            ],
            "text/markdown": "## Medicamentos"
          },
          "metadata": {}
        },
        {
          "output_type": "display_data",
          "data": {
            "text/plain": [
              "<IPython.core.display.Markdown object>"
            ],
            "text/markdown": "### metformina"
          },
          "metadata": {}
        },
        {
          "output_type": "display_data",
          "data": {
            "text/plain": [
              "<IPython.core.display.Markdown object>"
            ],
            "text/markdown": "* Dosagem: 850mg"
          },
          "metadata": {}
        },
        {
          "output_type": "display_data",
          "data": {
            "text/plain": [
              "<IPython.core.display.Markdown object>"
            ],
            "text/markdown": "* Forma de ingestão: comprimido via oral"
          },
          "metadata": {}
        },
        {
          "output_type": "display_data",
          "data": {
            "text/plain": [
              "<IPython.core.display.Markdown object>"
            ],
            "text/markdown": "* Frequência: 2x ao dia"
          },
          "metadata": {}
        },
        {
          "output_type": "display_data",
          "data": {
            "text/plain": [
              "<IPython.core.display.Markdown object>"
            ],
            "text/markdown": "> **Metformina**\n> \n> **Possíveis efeitos colaterais:**\n> \n> * Distúrbios gastrointestinais: náuseas, vômitos, diarreia, constipação\n> * Acidose láctica (uma condição grave que pode ocorrer em pacientes com função renal prejudicada)\n> * Redução da absorção de vitamina B12\n> * Sabor metálico na boca\n> * Perda de peso\n> \n> **Interações com outros medicamentos:**\n> \n> * Cimetidina (pode aumentar os níveis de metformina no sangue)\n> * Digoxina (pode reduzir os níveis de digoxina no sangue)\n> * IECA (inibidores da enzima conversora da angiotensina) e BRA (bloqueadores dos receptores da angiotensina) (podem aumentar o risco de acidose láctica)\n> * Álcool (pode aumentar o risco de acidose láctica)\n> \n> **Considerações especiais para pacientes com as seguintes condições:**\n> \n> **Diabetes Tipo 2:**\n> \n> * A metformina é um medicamento de primeira linha para tratar o diabetes tipo 2.\n> * Ajuda a controlar os níveis de açúcar no sangue, aumentando a sensibilidade do corpo à insulina.\n> \n> **Obesidade:**\n> \n> * A metformina pode ser usada como auxílio na perda de peso, pois pode reduzir o apetite e a absorção de calorias.\n> * No entanto, não é um medicamento para perda de peso e deve ser usado apenas em conjunto com uma dieta e programa de exercícios saudáveis.\n> \n> **Passo a Passo para o Consumo do Remédio:**\n> \n> 1. Tome a metformina conforme prescrito pelo seu médico.\n> 2. Tome a metformina com alimentos para reduzir os distúrbios gastrointestinais.\n> 3. Tome a metformina em intervalos regulares ao longo do dia (por exemplo, pela manhã e à noite).\n> 4. Beba bastante líquido ao tomar metformina.\n> 5. Informe o seu médico se sentir quaisquer efeitos colaterais, especialmente náuseas, vômitos ou diarreia graves.\n> \n> **Observação:** É importante monitorar regularmente os níveis de açúcar no sangue e função renal enquanto estiver tomando metformina."
          },
          "metadata": {}
        },
        {
          "output_type": "display_data",
          "data": {
            "text/plain": [
              "<IPython.core.display.Markdown object>"
            ],
            "text/markdown": "### insulina NPH"
          },
          "metadata": {}
        },
        {
          "output_type": "display_data",
          "data": {
            "text/plain": [
              "<IPython.core.display.Markdown object>"
            ],
            "text/markdown": "* Dosagem: 15UI em jejum pela manhã e 12UI à noite após a janta"
          },
          "metadata": {}
        },
        {
          "output_type": "display_data",
          "data": {
            "text/plain": [
              "<IPython.core.display.Markdown object>"
            ],
            "text/markdown": "* Forma de ingestão: injeção"
          },
          "metadata": {}
        },
        {
          "output_type": "display_data",
          "data": {
            "text/plain": [
              "<IPython.core.display.Markdown object>"
            ],
            "text/markdown": "* Frequência: 2x ao dia"
          },
          "metadata": {}
        },
        {
          "output_type": "display_data",
          "data": {
            "text/plain": [
              "<IPython.core.display.Markdown object>"
            ],
            "text/markdown": "> **Insulina NPH**\n> \n> **Efeitos Colaterais Possíveis:**\n> \n> * Hipoglicemia (níveis baixos de açúcar no sangue)\n> * Reações no local da injeção (dor, vermelhidão, inchaço)\n> * Lipodistrofia (acúmulo ou perda de gordura sob a pele no local da injeção)\n> * Ganho de peso\n> * Inchaço nas mãos, pés ou tornozelos\n> * Alterações da visão\n> \n> **Interações com Outros Medicamentos:**\n> \n> * **Antidiabéticos orais:** podem aumentar o risco de hipoglicemia\n> * **Beta-bloqueadores:** podem mascarar os sintomas de hipoglicemia\n> * **Glucocorticoides:** podem aumentar a glicemia (níveis de açúcar no sangue)\n> * **Danazol:** pode aumentar os requisitos de insulina\n> \n> **Considerações Especiais:**\n> \n> **Diabetes Tipo 2:**\n> \n> * Pode ser usada como tratamento de segunda linha após antidiabéticos orais\n> * Geralmente é administrada uma ou duas vezes ao dia\n> * A dose deve ser ajustada com base nos níveis de glicemia\n> \n> **Obesidade:**\n> \n> * Pode ser usada em combinação com metformina ou outros medicamentos para controle de peso\n> * Dosagens mais altas podem ser necessárias\n> \n> **Passo a Passo para o Consumo:**\n> \n> 1. **Lave as mãos:** Higienize as mãos antes de manusear a insulina.\n> 2. **Prepare a seringa:** Retire a insulina da geladeira e deixe-a atingir a temperatura ambiente por 15 a 30 minutos. Agite suavemente o frasco para misturar a insulina.\n> 3. **Aspire a insulina:** Use uma seringa nova e aspire a quantidade prescrita de insulina no frasco.\n> 4. **Injete a insulina:** Escolha um local de injeção no abdômen, coxa ou nádega. Limpe a área com álcool. Injete a insulina sob a pele no ângulo de 90 graus.\n> 5. **Remova a agulha:** Após a injeção, remova a agulha e descarte-a com segurança.\n> 6. **Massageie suavemente:** Massageie suavemente o local da injeção por alguns segundos.\n> \n> **Horários e Ordem:**\n> \n> Os horários e a ordem de administração da insulina NPH são determinados individualmente com base nas necessidades do paciente. Geralmente, é administrada uma ou duas vezes ao dia, de manhã e/ou à noite. É importante seguir as instruções do médico quanto ao horário e à dose."
          },
          "metadata": {}
        },
        {
          "output_type": "display_data",
          "data": {
            "text/plain": [
              "<IPython.core.display.Markdown object>"
            ],
            "text/markdown": "### profenid"
          },
          "metadata": {}
        },
        {
          "output_type": "display_data",
          "data": {
            "text/plain": [
              "<IPython.core.display.Markdown object>"
            ],
            "text/markdown": "* Dosagem: 100mg"
          },
          "metadata": {}
        },
        {
          "output_type": "display_data",
          "data": {
            "text/plain": [
              "<IPython.core.display.Markdown object>"
            ],
            "text/markdown": "* Forma de ingestão: comprimido via oral"
          },
          "metadata": {}
        },
        {
          "output_type": "display_data",
          "data": {
            "text/plain": [
              "<IPython.core.display.Markdown object>"
            ],
            "text/markdown": "* Frequência: 1x ao dia"
          },
          "metadata": {}
        },
        {
          "output_type": "display_data",
          "data": {
            "text/plain": [
              "<IPython.core.display.Markdown object>"
            ],
            "text/markdown": "> **Profenid (Ibuprofeno)**\n> \n> **Possíveis Efeitos Colaterais:**\n> \n> * Dor e desconforto estomacal\n> * Náusea e vômito\n> * Diarreia ou prisão de ventre\n> * Tontura e dor de cabeça\n> * Zumbidos nos ouvidos\n> * Inchaço nas mãos e nos pés\n> * Erupções cutâneas\n> \n> **Interações com Outros Medicamentos:**\n> \n> * **Anticoagulantes:** pode aumentar o risco de sangramento\n> * **Medicamentos anti-hipertensivos:** pode reduzir a eficácia desses medicamentos\n> * **Corticosteroides:** pode aumentar o risco de úlceras estomacais\n> * **Lítio:** pode aumentar os níveis de lítio no sangue\n> * **Metotrexato:** pode aumentar a toxicidade do metotrexato\n> \n> **Considerações Especiais:**\n> \n> * **Diabetes tipo 2:** Profenid pode aumentar os níveis de açúcar no sangue.\n> * **Obesidade:** Profenid pode aumentar o risco de problemas renais.\n> \n> **Passo a Passo para o Consumo:**\n> \n> * **Horário:** Tome Profenid conforme prescrito pelo seu médico, geralmente a cada 6 a 8 horas.\n> * **Ordem:** Tome Profenid com alimentos ou leite para reduzir o risco de problemas estomacais.\n> * **Tempo de duração:** A duração do tratamento dependerá da condição para a qual você está tomando Profenid.\n> * **Armazenamento:** Armazene Profenid em temperatura ambiente, longe da luz e da umidade."
          },
          "metadata": {}
        },
        {
          "output_type": "display_data",
          "data": {
            "text/plain": [
              "<IPython.core.display.Markdown object>"
            ],
            "text/markdown": "### gliclazida"
          },
          "metadata": {}
        },
        {
          "output_type": "display_data",
          "data": {
            "text/plain": [
              "<IPython.core.display.Markdown object>"
            ],
            "text/markdown": "* Dosagem: 80mg"
          },
          "metadata": {}
        },
        {
          "output_type": "display_data",
          "data": {
            "text/plain": [
              "<IPython.core.display.Markdown object>"
            ],
            "text/markdown": "* Forma de ingestão: comprimido via oral"
          },
          "metadata": {}
        },
        {
          "output_type": "display_data",
          "data": {
            "text/plain": [
              "<IPython.core.display.Markdown object>"
            ],
            "text/markdown": "* Frequência: 2x ao dia"
          },
          "metadata": {}
        },
        {
          "output_type": "display_data",
          "data": {
            "text/plain": [
              "<IPython.core.display.Markdown object>"
            ],
            "text/markdown": "> **Gliclazida**\n> \n> **Efeitos Colaterais Possíveis**\n> \n> * **Comuns:** Hipoglicemia, náusea, vômito, diarreia, dor abdominal, aumento do apetite\n> * **Raros:** Reações alérgicas, problemas de fígado, neuropatia periférica, dores de cabeça, visão turva\n> \n> **Interações com Outros Medicamentos**\n> \n> * **Potencializam o efeito hipoglicemiante:** Insulina, metformina, acarbose\n> * **Diminuem o efeito hipoglicemiante:** Corticosteroides, contraceptivos orais, tiroxina\n> * **Aumentam o risco de hipoglicemia:** Fibratos, anticoagulantes\n> \n> **Considerações Especiais**\n> \n> **Diabetes Tipo 2**\n> \n> * A gliclazida é eficaz em controlar os níveis de glicose no sangue em pacientes com diabetes tipo 2.\n> * Deve ser usada com uma dieta e programa de exercícios adequados.\n> \n> **Obesidade**\n> \n> * A gliclazida pode ser menos eficaz em pacientes obesos devido à resistência à insulina.\n> * Pode ser necessário ajustar a dose ou combinar com outros medicamentos.\n> \n> **Passo a Passo para o Consumo**\n> \n> **Horários:**\n> \n> * Tome a gliclazida uma vez ao dia, de preferência antes do café da manhã.\n> \n> **Ordem:**\n> \n> * Tome a gliclazida antes de qualquer refeição.\n> * Engula o comprimido inteiro com um copo de água.\n> * Não mastigue ou esmague o comprimido."
          },
          "metadata": {}
        },
        {
          "output_type": "display_data",
          "data": {
            "text/plain": [
              "<IPython.core.display.Markdown object>"
            ],
            "text/markdown": "### prednisona"
          },
          "metadata": {}
        },
        {
          "output_type": "display_data",
          "data": {
            "text/plain": [
              "<IPython.core.display.Markdown object>"
            ],
            "text/markdown": "* Dosagem: 5mg"
          },
          "metadata": {}
        },
        {
          "output_type": "display_data",
          "data": {
            "text/plain": [
              "<IPython.core.display.Markdown object>"
            ],
            "text/markdown": "* Forma de ingestão: comprimido via oral"
          },
          "metadata": {}
        },
        {
          "output_type": "display_data",
          "data": {
            "text/plain": [
              "<IPython.core.display.Markdown object>"
            ],
            "text/markdown": "* Frequência: 1x ao dia"
          },
          "metadata": {}
        },
        {
          "output_type": "display_data",
          "data": {
            "text/plain": [
              "<IPython.core.display.Markdown object>"
            ],
            "text/markdown": "> **Prednisona**\n> \n> **Efeitos Colaterais Possíveis**\n> \n> * Aumento do apetite e ganho de peso\n> * Inchaço no rosto (edema)\n> * Acne\n> * Pressão alta\n> * Níveis elevados de açúcar no sangue (hiperglicemia)\n> * Aumento da sede e da micção\n> * Fraqueza muscular\n> * Osteoporose\n> * Supressão do sistema imunológico\n> * Alterações de humor\n> \n> **Interações com Outros Medicamentos**\n> \n> * Digoxina: A prednisona pode aumentar os níveis sanguíneos de digoxina.\n> * Insulina e medicamentos antidiabéticos: A prednisona pode aumentar os níveis de açúcar no sangue, interferindo no controle da diabetes.\n> * Anticoagulantes: A prednisona pode aumentar o risco de sangramento.\n> * Medicamentos anti-inflamatórios não esteroides (AINEs): O uso concomitante de prednisona e AINEs pode aumentar o risco de úlceras estomacais.\n> \n> **Considerações Especiais**\n> \n> **Diabetes Tipo 2**\n> \n> * A prednisona pode piorar o controle do açúcar no sangue.\n> * Os pacientes com diabetes devem monitorar seus níveis de açúcar no sangue com mais frequência e ajustar a dose da medicação para diabetes conforme necessário.\n> \n> **Obesidade**\n> \n> * A prednisona pode causar ganho de peso e retenção de líquidos.\n> * Pacientes obesos devem ser monitorados para sinais de hipertensão, diabetes e outros problemas de saúde relacionados ao peso.\n> \n> **Passo a Passo para o Consumo**\n> \n> * Siga exatamente as instruções do seu médico sobre como tomar prednisona.\n> * Tome o medicamento uma vez ao dia, geralmente pela manhã, com ou sem alimentos.\n> * Não tome mais do que a dose prescrita.\n> * Tome o medicamento todos os dias, mesmo que se sinta melhor.\n> * Não pare de tomar prednisona repentinamente. Seu médico irá diminuir gradualmente a dose para evitar efeitos colaterais."
          },
          "metadata": {}
        }
      ]
    }
  ]
}